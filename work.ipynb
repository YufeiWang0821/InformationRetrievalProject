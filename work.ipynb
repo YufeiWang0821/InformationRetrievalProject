{
 "cells": [
  {
   "attachments": {},
   "cell_type": "markdown",
   "metadata": {},
   "source": [
    "Mine"
   ]
  },
  {
   "cell_type": "code",
   "execution_count": 5,
   "metadata": {},
   "outputs": [],
   "source": [
    "import torch\n",
    "import torchtext\n",
    "from torch import nn\n",
    "from TorchCRF import CRF"
   ]
  },
  {
   "cell_type": "code",
   "execution_count": null,
   "metadata": {},
   "outputs": [],
   "source": [
    "class BiLSTM_CRF(nn.Module):\n",
    "    def __init__(self) -> None:\n",
    "        super().__init__()"
   ]
  },
  {
   "attachments": {},
   "cell_type": "markdown",
   "metadata": {},
   "source": [
    "ChatGPT example"
   ]
  },
  {
   "cell_type": "code",
   "execution_count": null,
   "metadata": {},
   "outputs": [],
   "source": [
    "import torch\n",
    "import torch.nn as nn\n",
    "import torch.optim as optim\n",
    "from torchtext.legacy.datasets import SequenceTaggingDataset\n",
    "from torchtext.legacy.data import Field, BucketIterator\n",
    "\n",
    "# 定义模型超参数\n",
    "EMBEDDING_DIM = 100\n",
    "HIDDEN_DIM = 128\n",
    "BATCH_SIZE = 32\n",
    "EPOCHS = 10\n",
    "\n",
    "# 定义数据集和数据预处理参数\n",
    "TEXT = Field(lower=True)\n",
    "TAGS = Field(unk_token=None)\n",
    "fields = ((\"text\", TEXT), (\"tags\", TAGS))\n",
    "train_data, valid_data, test_data = SequenceTaggingDataset.splits(\n",
    "    path=\"data\",\n",
    "    train=\"eng.train\",\n",
    "    validation=\"valid.txt\",\n",
    "    test=\"eng.testa\",\n",
    "    fields=fields,\n",
    ")\n",
    "TEXT.build_vocab(train_data)\n",
    "TAGS.build_vocab(train_data)\n",
    "VOCAB_SIZE = len(TEXT.vocab)\n",
    "TAGS_SIZE = len(TAGS.vocab)\n"
   ]
  },
  {
   "cell_type": "code",
   "execution_count": null,
   "metadata": {},
   "outputs": [],
   "source": [
    "class BiLSTM_CRF(nn.Module):\n",
    "    def __init__(self, vocab_size, tag_size, embedding_dim, hidden_dim):\n",
    "        super(BiLSTM_CRF, self).__init__()\n",
    "        self.embedding = nn.Embedding(vocab_size, embedding_dim)\n",
    "        self.lstm = nn.LSTM(embedding_dim, hidden_dim // 2,\n",
    "                            num_layers=1, bidirectional=True, batch_first=True)\n",
    "        self.fc = nn.Linear(hidden_dim, tag_size)\n",
    "        self.crf = nn.CRF(tag_size)\n",
    "    \n",
    "    def forward(self, x):\n",
    "        x = self.embedding(x)\n",
    "        lstm_out, _ = self.lstm(x)\n",
    "        out = self.fc(lstm_out)\n",
    "        scores = self.crf.decode(out)\n",
    "        return scores\n"
   ]
  },
  {
   "cell_type": "code",
   "execution_count": null,
   "metadata": {},
   "outputs": [],
   "source": [
    "device = torch.device(\"cuda\" if torch.cuda.is_available() else \"cpu\")\n",
    "model = BiLSTM_CRF(VOCAB_SIZE, TAGS_SIZE, EMBEDDING_DIM, HIDDEN_DIM).to(device)\n",
    "optimizer = optim.Adam(model.parameters())\n",
    "criterion = nn.CrossEntropyLoss(ignore_index=TAGS.vocab.stoi[TAGS.pad_token])\n",
    "\n",
    "train_iterator, valid_iterator, test_iterator = BucketIterator.splits(\n",
    "    (train_data, valid_data, test_data),\n",
    "    batch_size=BATCH_SIZE,\n",
    "    device=device,\n",
    "    sort_key=lambda x: len(x.text),\n",
    "    sort_within_batch=True,\n",
    ")\n",
    "\n",
    "for epoch in range(EPOCHS):\n",
    "    epoch_loss = 0\n",
    "    model.train()\n",
    "    for batch in train_iterator:\n",
    "        optimizer.zero_grad()\n",
    "        text = batch.text\n",
    "        tags = batch.tags\n",
    "        scores = model(text)\n",
    "        loss = criterion(scores.view(-1, TAGS_SIZE), tags.view(-1))\n",
    "        loss.backward()\n",
    "        optimizer.step()\n",
    "        epoch_loss += loss.item()\n",
    "    avg_epoch_loss = epoch_loss / len(train_iterator)\n",
    "    print(f\"Epoch {epoch+1} train loss: {avg_epoch_loss:.4f}\")\n"
   ]
  },
  {
   "cell_type": "code",
   "execution_count": null,
   "metadata": {},
   "outputs": [],
   "source": [
    "from sklearn.metrics import precision_score, recall_score, f1_score\n",
    "\n",
    "model.eval()\n",
    "true_tags = []\n",
    "pred_tags = []\n",
    "with torch.no_grad():\n",
    "    for batch in test_iterator:\n",
    "        text = batch.text\n",
    "        tags = batch.tags\n",
    "        scores = model(text)\n",
    "        for i in range(len(text)):\n",
    "            true_tags.extend([TAGS.vocab.itos[tags[j][i].item()] for j in range(len(tags))])\n",
    "            pred_tags.extend([TAGS.vocab.itos[scores[j][i].item()] for j in range(len(scores))])\n",
    "accuracy = sum([1 for i in range(len(true_tags)) if true_tags[i] == pred_tags[i]]) / len(true_tags)\n",
    "precision = precision_score(true_tags, pred_tags, average=\"macro\")\n",
    "recall = recall_score(true_tags, pred_tags, average=\"macro\")\n",
    "f1 = f1_score(true_tags, pred_tags, average=\"macro\")\n",
    "print(f\"Accuracy: {accuracy:.4f}\")\n",
    "print(f\"Precision: {precision:.4f}\")\n",
    "print(f\"Recall: {recall:.4f}\")\n",
    "print(f\"F1 score: {f1:.4f}\")\n"
   ]
  }
 ],
 "metadata": {
  "kernelspec": {
   "display_name": "base",
   "language": "python",
   "name": "python3"
  },
  "language_info": {
   "codemirror_mode": {
    "name": "ipython",
    "version": 3
   },
   "file_extension": ".py",
   "mimetype": "text/x-python",
   "name": "python",
   "nbconvert_exporter": "python",
   "pygments_lexer": "ipython3",
   "version": "3.9.12"
  },
  "orig_nbformat": 4
 },
 "nbformat": 4,
 "nbformat_minor": 2
}
