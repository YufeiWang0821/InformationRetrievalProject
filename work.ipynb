{
 "cells": [
  {
   "attachments": {},
   "cell_type": "markdown",
   "metadata": {},
   "source": [
    "Mine"
   ]
  },
  {
   "cell_type": "code",
   "execution_count": 3,
   "metadata": {},
   "outputs": [],
   "source": [
    "import torch\n",
    "import torchtext\n",
    "from torch import nn\n",
    "from TorchCRF import CRF"
   ]
  },
  {
   "cell_type": "code",
   "execution_count": null,
   "metadata": {},
   "outputs": [],
   "source": [
    "class BiLSTM_CRF(nn.Module):\n",
    "    def __init__(self) -> None:\n",
    "        super().__init__()"
   ]
  },
  {
   "attachments": {},
   "cell_type": "markdown",
   "metadata": {},
   "source": [
    "ChatGPT example"
   ]
  },
  {
   "cell_type": "code",
   "execution_count": 1,
   "metadata": {},
   "outputs": [
    {
     "ename": "FileNotFoundError",
     "evalue": "[Errno 2] No such file or directory: 'data/train.txt'",
     "output_type": "error",
     "traceback": [
      "\u001b[0;31m---------------------------------------------------------------------------\u001b[0m",
      "\u001b[0;31mFileNotFoundError\u001b[0m                         Traceback (most recent call last)",
      "\u001b[1;32m/data/wyf/InformationRetrievalProject/work.ipynb 单元格 5\u001b[0m in \u001b[0;36m<cell line: 17>\u001b[0;34m()\u001b[0m\n\u001b[1;32m     <a href='vscode-notebook-cell://ssh-remote%2B192.168.1.130/data/wyf/InformationRetrievalProject/work.ipynb#W3sdnNjb2RlLXJlbW90ZQ%3D%3D?line=14'>15</a>\u001b[0m TAGS \u001b[39m=\u001b[39m Field(unk_token\u001b[39m=\u001b[39m\u001b[39mNone\u001b[39;00m)\n\u001b[1;32m     <a href='vscode-notebook-cell://ssh-remote%2B192.168.1.130/data/wyf/InformationRetrievalProject/work.ipynb#W3sdnNjb2RlLXJlbW90ZQ%3D%3D?line=15'>16</a>\u001b[0m fields \u001b[39m=\u001b[39m ((\u001b[39m\"\u001b[39m\u001b[39mtext\u001b[39m\u001b[39m\"\u001b[39m, TEXT), (\u001b[39m\"\u001b[39m\u001b[39mtags\u001b[39m\u001b[39m\"\u001b[39m, TAGS))\n\u001b[0;32m---> <a href='vscode-notebook-cell://ssh-remote%2B192.168.1.130/data/wyf/InformationRetrievalProject/work.ipynb#W3sdnNjb2RlLXJlbW90ZQ%3D%3D?line=16'>17</a>\u001b[0m train_data, valid_data, test_data \u001b[39m=\u001b[39m SequenceTaggingDataset\u001b[39m.\u001b[39;49msplits(\n\u001b[1;32m     <a href='vscode-notebook-cell://ssh-remote%2B192.168.1.130/data/wyf/InformationRetrievalProject/work.ipynb#W3sdnNjb2RlLXJlbW90ZQ%3D%3D?line=17'>18</a>\u001b[0m     path\u001b[39m=\u001b[39;49m\u001b[39m\"\u001b[39;49m\u001b[39mdata\u001b[39;49m\u001b[39m\"\u001b[39;49m,\n\u001b[1;32m     <a href='vscode-notebook-cell://ssh-remote%2B192.168.1.130/data/wyf/InformationRetrievalProject/work.ipynb#W3sdnNjb2RlLXJlbW90ZQ%3D%3D?line=18'>19</a>\u001b[0m     train\u001b[39m=\u001b[39;49m\u001b[39m\"\u001b[39;49m\u001b[39mtrain.txt\u001b[39;49m\u001b[39m\"\u001b[39;49m,\n\u001b[1;32m     <a href='vscode-notebook-cell://ssh-remote%2B192.168.1.130/data/wyf/InformationRetrievalProject/work.ipynb#W3sdnNjb2RlLXJlbW90ZQ%3D%3D?line=19'>20</a>\u001b[0m     validation\u001b[39m=\u001b[39;49m\u001b[39m\"\u001b[39;49m\u001b[39mvalid.txt\u001b[39;49m\u001b[39m\"\u001b[39;49m,\n\u001b[1;32m     <a href='vscode-notebook-cell://ssh-remote%2B192.168.1.130/data/wyf/InformationRetrievalProject/work.ipynb#W3sdnNjb2RlLXJlbW90ZQ%3D%3D?line=20'>21</a>\u001b[0m     test\u001b[39m=\u001b[39;49m\u001b[39m\"\u001b[39;49m\u001b[39mtest.txt\u001b[39;49m\u001b[39m\"\u001b[39;49m,\n\u001b[1;32m     <a href='vscode-notebook-cell://ssh-remote%2B192.168.1.130/data/wyf/InformationRetrievalProject/work.ipynb#W3sdnNjb2RlLXJlbW90ZQ%3D%3D?line=21'>22</a>\u001b[0m     fields\u001b[39m=\u001b[39;49mfields,\n\u001b[1;32m     <a href='vscode-notebook-cell://ssh-remote%2B192.168.1.130/data/wyf/InformationRetrievalProject/work.ipynb#W3sdnNjb2RlLXJlbW90ZQ%3D%3D?line=22'>23</a>\u001b[0m )\n\u001b[1;32m     <a href='vscode-notebook-cell://ssh-remote%2B192.168.1.130/data/wyf/InformationRetrievalProject/work.ipynb#W3sdnNjb2RlLXJlbW90ZQ%3D%3D?line=23'>24</a>\u001b[0m TEXT\u001b[39m.\u001b[39mbuild_vocab(train_data)\n\u001b[1;32m     <a href='vscode-notebook-cell://ssh-remote%2B192.168.1.130/data/wyf/InformationRetrievalProject/work.ipynb#W3sdnNjb2RlLXJlbW90ZQ%3D%3D?line=24'>25</a>\u001b[0m TAGS\u001b[39m.\u001b[39mbuild_vocab(train_data)\n",
      "File \u001b[0;32m~/miniconda/envs/wyf/lib/python3.9/site-packages/torchtext/legacy/data/dataset.py:77\u001b[0m, in \u001b[0;36mDataset.splits\u001b[0;34m(cls, path, root, train, validation, test, **kwargs)\u001b[0m\n\u001b[1;32m     75\u001b[0m \u001b[39mif\u001b[39;00m path \u001b[39mis\u001b[39;00m \u001b[39mNone\u001b[39;00m:\n\u001b[1;32m     76\u001b[0m     path \u001b[39m=\u001b[39m \u001b[39mcls\u001b[39m\u001b[39m.\u001b[39mdownload(root)\n\u001b[0;32m---> 77\u001b[0m train_data \u001b[39m=\u001b[39m \u001b[39mNone\u001b[39;00m \u001b[39mif\u001b[39;00m train \u001b[39mis\u001b[39;00m \u001b[39mNone\u001b[39;00m \u001b[39melse\u001b[39;00m \u001b[39mcls\u001b[39;49m(\n\u001b[1;32m     78\u001b[0m     os\u001b[39m.\u001b[39;49mpath\u001b[39m.\u001b[39;49mjoin(path, train), \u001b[39m*\u001b[39;49m\u001b[39m*\u001b[39;49mkwargs)\n\u001b[1;32m     79\u001b[0m val_data \u001b[39m=\u001b[39m \u001b[39mNone\u001b[39;00m \u001b[39mif\u001b[39;00m validation \u001b[39mis\u001b[39;00m \u001b[39mNone\u001b[39;00m \u001b[39melse\u001b[39;00m \u001b[39mcls\u001b[39m(\n\u001b[1;32m     80\u001b[0m     os\u001b[39m.\u001b[39mpath\u001b[39m.\u001b[39mjoin(path, validation), \u001b[39m*\u001b[39m\u001b[39m*\u001b[39mkwargs)\n\u001b[1;32m     81\u001b[0m test_data \u001b[39m=\u001b[39m \u001b[39mNone\u001b[39;00m \u001b[39mif\u001b[39;00m test \u001b[39mis\u001b[39;00m \u001b[39mNone\u001b[39;00m \u001b[39melse\u001b[39;00m \u001b[39mcls\u001b[39m(\n\u001b[1;32m     82\u001b[0m     os\u001b[39m.\u001b[39mpath\u001b[39m.\u001b[39mjoin(path, test), \u001b[39m*\u001b[39m\u001b[39m*\u001b[39mkwargs)\n",
      "File \u001b[0;32m~/miniconda/envs/wyf/lib/python3.9/site-packages/torchtext/legacy/datasets/sequence_tagging.py:28\u001b[0m, in \u001b[0;36mSequenceTaggingDataset.__init__\u001b[0;34m(self, path, fields, encoding, separator, **kwargs)\u001b[0m\n\u001b[1;32m     25\u001b[0m examples \u001b[39m=\u001b[39m []\n\u001b[1;32m     26\u001b[0m columns \u001b[39m=\u001b[39m []\n\u001b[0;32m---> 28\u001b[0m \u001b[39mwith\u001b[39;00m \u001b[39mopen\u001b[39;49m(path, encoding\u001b[39m=\u001b[39;49mencoding) \u001b[39mas\u001b[39;00m input_file:\n\u001b[1;32m     29\u001b[0m     \u001b[39mfor\u001b[39;00m line \u001b[39min\u001b[39;00m input_file:\n\u001b[1;32m     30\u001b[0m         line \u001b[39m=\u001b[39m line\u001b[39m.\u001b[39mstrip()\n",
      "\u001b[0;31mFileNotFoundError\u001b[0m: [Errno 2] No such file or directory: 'data/train.txt'"
     ]
    }
   ],
   "source": [
    "import torch\n",
    "import torch.nn as nn\n",
    "import torch.optim as optim\n",
    "from torchtext.legacy.datasets import SequenceTaggingDataset\n",
    "from torchtext.legacy.data import Field, BucketIterator\n",
    "\n",
    "# 定义模型超参数\n",
    "EMBEDDING_DIM = 100\n",
    "HIDDEN_DIM = 128\n",
    "BATCH_SIZE = 32\n",
    "EPOCHS = 10\n",
    "\n",
    "# 定义数据集和数据预处理参数\n",
    "TEXT = Field(lower=True)\n",
    "TAGS = Field(unk_token=None)\n",
    "fields = ((\"text\", TEXT), (\"tags\", TAGS))\n",
    "train_data, valid_data, test_data = SequenceTaggingDataset.splits(\n",
    "    path=\"data\",\n",
    "    train=\"train.txt\",\n",
    "    validation=\"valid.txt\",\n",
    "    test=\"test.txt\",\n",
    "    fields=fields,\n",
    ")\n",
    "TEXT.build_vocab(train_data)\n",
    "TAGS.build_vocab(train_data)\n",
    "VOCAB_SIZE = len(TEXT.vocab)\n",
    "TAGS_SIZE = len(TAGS.vocab)\n"
   ]
  },
  {
   "cell_type": "code",
   "execution_count": null,
   "metadata": {},
   "outputs": [],
   "source": [
    "class BiLSTM_CRF(nn.Module):\n",
    "    def __init__(self, vocab_size, tag_size, embedding_dim, hidden_dim):\n",
    "        super(BiLSTM_CRF, self).__init__()\n",
    "        self.embedding = nn.Embedding(vocab_size, embedding_dim)\n",
    "        self.lstm = nn.LSTM(embedding_dim, hidden_dim // 2,\n",
    "                            num_layers=1, bidirectional=True, batch_first=True)\n",
    "        self.fc = nn.Linear(hidden_dim, tag_size)\n",
    "        self.crf = nn.CRF(tag_size)\n",
    "    \n",
    "    def forward(self, x):\n",
    "        x = self.embedding(x)\n",
    "        lstm_out, _ = self.lstm(x)\n",
    "        out = self.fc(lstm_out)\n",
    "        scores = self.crf.decode(out)\n",
    "        return scores\n"
   ]
  },
  {
   "cell_type": "code",
   "execution_count": null,
   "metadata": {},
   "outputs": [],
   "source": [
    "device = torch.device(\"cuda\" if torch.cuda.is_available() else \"cpu\")\n",
    "model = BiLSTM_CRF(VOCAB_SIZE, TAGS_SIZE, EMBEDDING_DIM, HIDDEN_DIM).to(device)\n",
    "optimizer = optim.Adam(model.parameters())\n",
    "criterion = nn.CrossEntropyLoss(ignore_index=TAGS.vocab.stoi[TAGS.pad_token])\n",
    "\n",
    "train_iterator, valid_iterator, test_iterator = BucketIterator.splits(\n",
    "    (train_data, valid_data, test_data),\n",
    "    batch_size=BATCH_SIZE,\n",
    "    device=device,\n",
    "    sort_key=lambda x: len(x.text),\n",
    "    sort_within_batch=True,\n",
    ")\n",
    "\n",
    "for epoch in range(EPOCHS):\n",
    "    epoch_loss = 0\n",
    "    model.train()\n",
    "    for batch in train_iterator:\n",
    "        optimizer.zero_grad()\n",
    "        text = batch.text\n",
    "        tags = batch.tags\n",
    "        scores = model(text)\n",
    "        loss = criterion(scores.view(-1, TAGS_SIZE), tags.view(-1))\n",
    "        loss.backward()\n",
    "        optimizer.step()\n",
    "        epoch_loss += loss.item()\n",
    "    avg_epoch_loss = epoch_loss / len(train_iterator)\n",
    "    print(f\"Epoch {epoch+1} train loss: {avg_epoch_loss:.4f}\")\n"
   ]
  },
  {
   "cell_type": "code",
   "execution_count": null,
   "metadata": {},
   "outputs": [],
   "source": [
    "from sklearn.metrics import precision_score, recall_score, f1_score\n",
    "\n",
    "model.eval()\n",
    "true_tags = []\n",
    "pred_tags = []\n",
    "with torch.no_grad():\n",
    "    for batch in test_iterator:\n",
    "        text = batch.text\n",
    "        tags = batch.tags\n",
    "        scores = model(text)\n",
    "        for i in range(len(text)):\n",
    "            true_tags.extend([TAGS.vocab.itos[tags[j][i].item()] for j in range(len(tags))])\n",
    "            pred_tags.extend([TAGS.vocab.itos[scores[j][i].item()] for j in range(len(scores))])\n",
    "accuracy = sum([1 for i in range(len(true_tags)) if true_tags[i] == pred_tags[i]]) / len(true_tags)\n",
    "precision = precision_score(true_tags, pred_tags, average=\"macro\")\n",
    "recall = recall_score(true_tags, pred_tags, average=\"macro\")\n",
    "f1 = f1_score(true_tags, pred_tags, average=\"macro\")\n",
    "print(f\"Accuracy: {accuracy:.4f}\")\n",
    "print(f\"Precision: {precision:.4f}\")\n",
    "print(f\"Recall: {recall:.4f}\")\n",
    "print(f\"F1 score: {f1:.4f}\")\n"
   ]
  }
 ],
 "metadata": {
  "kernelspec": {
   "display_name": "base",
   "language": "python",
   "name": "python3"
  },
  "language_info": {
   "codemirror_mode": {
    "name": "ipython",
    "version": 3
   },
   "file_extension": ".py",
   "mimetype": "text/x-python",
   "name": "python",
   "nbconvert_exporter": "python",
   "pygments_lexer": "ipython3",
   "version": "3.9.12"
  },
  "orig_nbformat": 4
 },
 "nbformat": 4,
 "nbformat_minor": 2
}
